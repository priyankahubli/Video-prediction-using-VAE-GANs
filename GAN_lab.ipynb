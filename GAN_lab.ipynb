{
  "nbformat": 4,
  "nbformat_minor": 0,
  "metadata": {
    "colab": {
      "name": "GAN-lab.ipynb",
      "version": "0.3.2",
      "provenance": [],
      "collapsed_sections": [],
      "include_colab_link": true
    },
    "kernelspec": {
      "display_name": "Python 3",
      "language": "python",
      "name": "python3"
    },
    "accelerator": "GPU"
  },
  "cells": [
    {
      "cell_type": "markdown",
      "metadata": {
        "id": "view-in-github",
        "colab_type": "text"
      },
      "source": [
        "<a href=\"https://colab.research.google.com/github/priyankahubli/Video-prediction-using-VAE-GANs/blob/master/GAN_lab.ipynb\" target=\"_parent\"><img src=\"https://colab.research.google.com/assets/colab-badge.svg\" alt=\"Open In Colab\"/></a>"
      ]
    },
    {
      "metadata": {
        "id": "F_IwrAi7Gi5l",
        "colab_type": "text"
      },
      "cell_type": "markdown",
      "source": [
        "# Generative Adversarial Networks (GANs)\n",
        "\n",
        "In this lab, we will be working with GANs."
      ]
    },
    {
      "metadata": {
        "id": "JEcNYhOuGi5m",
        "colab_type": "code",
        "outputId": "8b2d8cd8-87ef-4edb-8e6d-3edfe5d6a023",
        "colab": {
          "base_uri": "https://localhost:8080/",
          "height": 195
        }
      },
      "cell_type": "code",
      "source": [
        "!pip3 install http://download.pytorch.org/whl/cu80/torch-0.4-cp36-cp36m-linux_x86_64.whl\n",
        "!pip3 install torchvision"
      ],
      "execution_count": 2,
      "outputs": [
        {
          "output_type": "stream",
          "text": [
            "Collecting torch==0.4 from http://download.pytorch.org/whl/cu80/torch-0.4-cp36-cp36m-linux_x86_64.whl\n",
            "\u001b[31m  HTTP error 403 while getting http://download.pytorch.org/whl/cu80/torch-0.4-cp36-cp36m-linux_x86_64.whl\u001b[0m\n",
            "\u001b[31m  Could not install requirement torch==0.4 from http://download.pytorch.org/whl/cu80/torch-0.4-cp36-cp36m-linux_x86_64.whl because of error 403 Client Error: Forbidden for url: http://download.pytorch.org/whl/cu80/torch-0.4-cp36-cp36m-linux_x86_64.whl\u001b[0m\n",
            "\u001b[31mCould not install requirement torch==0.4 from http://download.pytorch.org/whl/cu80/torch-0.4-cp36-cp36m-linux_x86_64.whl because of HTTP error 403 Client Error: Forbidden for url: http://download.pytorch.org/whl/cu80/torch-0.4-cp36-cp36m-linux_x86_64.whl for URL http://download.pytorch.org/whl/cu80/torch-0.4-cp36-cp36m-linux_x86_64.whl\u001b[0m\n",
            "Requirement already satisfied: torchvision in /usr/local/lib/python3.6/dist-packages (0.2.1)\n",
            "Requirement already satisfied: numpy in /usr/local/lib/python3.6/dist-packages (from torchvision) (1.14.6)\n",
            "Requirement already satisfied: pillow>=4.1.1 in /usr/local/lib/python3.6/dist-packages (from torchvision) (5.3.0)\n",
            "Requirement already satisfied: torch in /usr/local/lib/python3.6/dist-packages (from torchvision) (0.4.1)\n",
            "Requirement already satisfied: six in /usr/local/lib/python3.6/dist-packages (from torchvision) (1.11.0)\n"
          ],
          "name": "stdout"
        }
      ]
    },
    {
      "metadata": {
        "id": "fpQo7cmmGi5s",
        "colab_type": "code",
        "colab": {}
      },
      "cell_type": "code",
      "source": [
        "%matplotlib inline\n",
        "import torch\n",
        "import torch.utils.data\n",
        "import torch.nn as nn\n",
        "import torch.optim as optim\n",
        "from torch.autograd import Variable\n",
        "import torch.nn.functional as F\n",
        "\n",
        "import numpy as np\n",
        "import matplotlib.pyplot as plt\n",
        "\n",
        "from torchvision.models.inception import inception_v3\n",
        "from torchvision import datasets, transforms\n",
        "from scipy.stats import entropy\n",
        "import copy\n",
        "\n",
        "import itertools\n",
        "\n",
        "torch.manual_seed(0); #you may want to make use of this in various cells for reproducability\n",
        "gpu_boole = torch.cuda.is_available()"
      ],
      "execution_count": 0,
      "outputs": []
    },
    {
      "metadata": {
        "id": "kIsI1FexGi5w",
        "colab_type": "text"
      },
      "cell_type": "markdown",
      "source": [
        "## 1. Introduction and Motivation\n",
        "\n",
        "As a recap from lecture:\n",
        "\n",
        "GANs are a popular architecture class for\n",
        "generating data first introduced in (Goodfellow et al 2014). \n",
        "\n",
        "The two major components of a GAN framework are a Discriminator network $D$ and\n",
        "a Generator network $G$.\n",
        "\n",
        "$D$ takes a data sample as input and decides whether it is real (coming from the actual \n",
        "training set) or fake (generated artificially). $G$ takes some random noise vector\n",
        "$z$ as input and outputs a generated sample. \n",
        "\n",
        "In practice, these networks \"battle\": $G$ continually attmepts to generate\n",
        "more realistic samples and $D$ continually tries to get better at distinguishing\n",
        "real samples from fake smaples. This can be formulated as a min-max zero sum game:\n",
        "\n",
        "$$\\min_G \\max_D V(D, G) = \\mathbb{E}_{x \\sim p_{data}(x)} [\\log D(x)] + \\mathbb{E}_{z \\sim p_z(z)} [\\log 1 - D(G(z))]$$\n",
        "where $p_z(z)$ denotes a defined prior over the noise vector. Local and global minima for this problem exist at local and global Nash Equilibria.\n",
        "\n",
        "The hope is that, over training, $D$ becomes a very good discriminator and $G$ becomes\n",
        "a very good generator. At the end of training, we can then make use of $G$\n",
        "to generate nice looking samples that seem like they were drawn from the original\n",
        "distribution."
      ]
    },
    {
      "metadata": {
        "id": "jR6l1K4YGi6Y",
        "colab_type": "code",
        "colab": {}
      },
      "cell_type": "code",
      "source": [
        "def MNIST_IS(imgs, model_path='MNIST.ckpt', batch_size=32, splits=10):\n",
        "    \n",
        "    \"\"\"Computes the inception score of the generated images imgs\n",
        "    imgs -- numpy array of dimension (# of datapoints, 1, 28, 28)\n",
        "    batch_size -- batch size for feeding into the pretrained MNIST model\n",
        "    splits -- number of splits\n",
        "    \"\"\"\n",
        "    N = len(imgs)\n",
        "    \n",
        "    #check imgs is numpy array & of desired dimension\n",
        "    assert type(imgs) is np.ndarray\n",
        "    assert imgs.shape[1] == 1\n",
        "    assert imgs.shape[2] == 28\n",
        "    assert imgs.shape[3] == 28\n",
        "    assert batch_size > 0\n",
        "    assert N > batch_size\n",
        "    \n",
        "    imgs = copy.copy(imgs)\n",
        "    \n",
        "    # Set up dtype\n",
        "    if torch.cuda.is_available():\n",
        "        dtype = torch.cuda.FloatTensor\n",
        "    else:\n",
        "        dtype = torch.FloatTensor\n",
        "    \n",
        "    MEAN = 0.1307\n",
        "    STD = 0.3081\n",
        "    imgs -= MEAN\n",
        "    imgs /= STD\n",
        "    \n",
        "    # Set up dataloader\n",
        "    dataloader = torch.utils.data.DataLoader(imgs, batch_size=batch_size)\n",
        "\n",
        "    # Load inception model\n",
        "    MNIST_model = ConvNet()\n",
        "    MNIST_model.load_state_dict(torch.load(model_path))\n",
        "    if torch.cuda.is_available():\n",
        "        MNIST_model = MNIST_model.cuda()\n",
        "    MNIST_model.eval()\n",
        "\n",
        "    def get_pred(x):\n",
        "        if torch.cuda.is_available():\n",
        "            x = x.cuda()\n",
        "        x = MNIST_model(x)\n",
        "        return F.softmax(x, dim=0).data.cpu().numpy()\n",
        "\n",
        "    # Get predictions\n",
        "    preds = np.zeros((N, 10))\n",
        "\n",
        "    for i, batch in enumerate(dataloader, 0):\n",
        "        batch = batch.type(dtype)\n",
        "        batchv = Variable(batch)\n",
        "        batch_size_i = batch.size()[0]\n",
        "\n",
        "        preds[i*batch_size:i*batch_size + batch_size_i] = get_pred(batchv)\n",
        "\n",
        "    # Now compute the mean kl-div\n",
        "    split_scores = []\n",
        "\n",
        "    for k in range(splits):\n",
        "        part = preds[k * (N // splits): (k+1) * (N // splits), :]\n",
        "        py = np.mean(part, axis=0)\n",
        "        scores = []\n",
        "        for i in range(part.shape[0]):\n",
        "            pyx = part[i, :]\n",
        "            scores.append(entropy(pyx, py))\n",
        "        split_scores.append(np.exp(np.mean(scores)))\n",
        "    \n",
        "    return np.mean(split_scores), np.std(split_scores)\n",
        "\n",
        "#Model structure of the pretrained MNIST data\n",
        "class ConvNet(nn.Module):\n",
        "    def __init__(self):\n",
        "        super(ConvNet, self).__init__()\n",
        "        self.layer1 = nn.Sequential(\n",
        "            nn.Conv2d(1, 32, kernel_size=5, stride=1, padding=2),\n",
        "            nn.ReLU(),\n",
        "            nn.MaxPool2d(kernel_size=2, stride=2))\n",
        "        self.layer2 = nn.Sequential(\n",
        "            nn.Conv2d(32, 64, kernel_size=5, stride=1, padding=2),\n",
        "            nn.ReLU(),\n",
        "            nn.MaxPool2d(kernel_size=2, stride=2))\n",
        "        self.drop_out = nn.Dropout()\n",
        "        self.fc1 = nn.Linear(7 * 7 * 64, 1000)\n",
        "        self.fc2 = nn.Linear(1000, 10)\n",
        "\n",
        "    def forward(self, x):\n",
        "        out = self.layer1(x)\n",
        "        out = self.layer2(out)\n",
        "        out = out.reshape(out.size(0), -1)\n",
        "        out = self.drop_out(out)\n",
        "        out = self.fc1(out)\n",
        "        out = self.fc2(out)\n",
        "        return out\n"
      ],
      "execution_count": 0,
      "outputs": []
    },
    {
      "metadata": {
        "id": "8ICBe8j-Gi6c",
        "colab_type": "text"
      },
      "cell_type": "markdown",
      "source": [
        "Now, let's see the inception score for the actual MNIST dataset.\n",
        "\n",
        "You will need to make sure the provided `MNIST.ckpt` file is in your working directory or specify its path via the `model_path` argument of `MNIST_IS`. If using Google Colab, click `View` --> `Table of Contents` --> `Files` and then upload the `MNIST.ckpt` file.\n",
        "\n",
        "The cell below gives an IS estimate for some MNIST samples."
      ]
    },
    {
      "metadata": {
        "id": "K2Wa5iJfGi6f",
        "colab_type": "code",
        "outputId": "c0cbeb23-3f12-4ae9-9758-90270f9a1f2a",
        "colab": {
          "base_uri": "https://localhost:8080/",
          "height": 157
        }
      },
      "cell_type": "code",
      "source": [
        "transform = transforms.ToTensor()\n",
        "train_loader = torch.utils.data.DataLoader(\n",
        "    datasets.MNIST('./data', train=True, download=True, transform=transform),\n",
        "    batch_size=500, shuffle=True)\n",
        "\n",
        "for x, y in train_loader:\n",
        "    x = x\n",
        "    break\n",
        "x = x.cpu().data.numpy()\n",
        "x = x.reshape([-1,1,28,28])\n",
        "print('Shape of data:',x.shape)\n",
        "mis = MNIST_IS(x)\n",
        "print('Inception Score:','mean:',mis[0],'std:',mis[1])"
      ],
      "execution_count": 5,
      "outputs": [
        {
          "output_type": "stream",
          "text": [
            "Downloading http://yann.lecun.com/exdb/mnist/train-images-idx3-ubyte.gz\n",
            "Downloading http://yann.lecun.com/exdb/mnist/train-labels-idx1-ubyte.gz\n",
            "Downloading http://yann.lecun.com/exdb/mnist/t10k-images-idx3-ubyte.gz\n",
            "Downloading http://yann.lecun.com/exdb/mnist/t10k-labels-idx1-ubyte.gz\n",
            "Processing...\n",
            "Done!\n",
            "Shape of data: (500, 1, 28, 28)\n",
            "Inception Score: mean: 9.100985329451802 std: 0.7829245432763191\n"
          ],
          "name": "stdout"
        }
      ]
    },
    {
      "metadata": {
        "id": "8XUuoi4QGi6l",
        "colab_type": "text"
      },
      "cell_type": "markdown",
      "source": [
        "The score for MNIST should be somewhere around 8 to 12. As we train our GAN(s), we will be looking to\n",
        "get as high an inception score as possible on our generated images.\n"
      ]
    },
    {
      "metadata": {
        "id": "LLoORcpHGi6n",
        "colab_type": "text"
      },
      "cell_type": "markdown",
      "source": [
        "### 3.2. Generating MNIST images\n",
        "\n",
        "As you did with the Gaussian distribution, see if you can train D and G\n",
        "such that G can generate nice images for MNIST. **You are free to use any architecture class, but keep it fairly computationally inexpensive, if possible.** Simple CNNs are good guidelines for computational tractability.\n",
        "\n",
        "#### Deliverables\n",
        "\n",
        "Given the limited computational resources, you will want to achieve an inception score of 1.5 or greater for full credit. An IS of 1.5 won't yield great images. For nice looking images, you'll need an inception score of around 6.0, but it is not needed for full credit.\n",
        "\n",
        "Scores higher than 1.5 will receive bonus points.\n",
        "\n",
        "#### Instructions for long training times\n",
        "\n",
        "For more complicated architectures, if your model takes a long time to train, you will need to save the model and write a code snippet that loads it such that the code runs with no errors and we can grade it expediently. In this case, set epochs = 0 and include the saved model in your submission on blackboard (or a Google drive link / something similar if it is too large for BB).\n",
        "\n",
        "#### Some Optional Tips\n",
        "\n",
        "It will be easier to get better results with a convolutional GAN as MLPs are typically not used in practical settings. Deconvolutional layers (implemented via `nn.ConvTranspose2d` in pytorch) are typically used. I suggest paying attention to the shapes at each line of the forward pass to avoid errors.\n",
        "\n",
        "There are additional GAN architectures online you may want to reference for inspiration. (But do not plagiarize -- please write your own custom network.)"
      ]
    },
    {
      "metadata": {
        "id": "0ZGfOWYTGi6o",
        "colab_type": "code",
        "colab": {}
      },
      "cell_type": "code",
      "source": [
        "#Defining your networks:\n",
        "\n",
        "class generator(nn.Module):\n",
        "    # initializers\n",
        "    def __init__(self,k):\n",
        "        super(generator, self).__init__()\n",
        "        #TO-DO\n",
        "        self.conv1 = nn.ConvTranspose2d(k, 9, kernel_size=5)  # 5 7 \n",
        "        self.conv2 = nn.ConvTranspose2d(9, 8, kernel_size=5) # 9  10\n",
        "        self.conv3 = nn.ConvTranspose2d(8, 7, kernel_size=5) #13  14\n",
        "        self.conv4 = nn.ConvTranspose2d(7, 6, kernel_size=5) #17   18\n",
        "        self.conv5 = nn.ConvTranspose2d(6, 5, kernel_size=5)  # 21  22\n",
        "        self.conv6 = nn.ConvTranspose2d(5, 4, kernel_size=5)  # 25  26\n",
        "        self.conv7 = nn.ConvTranspose2d(4, 1, kernel_size=4)  # 28  (kernel=3,no outs)\n",
        "        self.bn1 = nn.BatchNorm2d(9)\n",
        "        self.bn2 = nn.BatchNorm2d(8)\n",
        "        self.bn3 = nn.BatchNorm2d(7)\n",
        "        self.bn4 = nn.BatchNorm2d(6)\n",
        "        self.bn5 = nn.BatchNorm2d(5)\n",
        "        self.bn6 = nn.BatchNorm2d(4)\n",
        "        self.bn7 = nn.BatchNorm2d(1)\n",
        "        \n",
        "        \n",
        "        self.tanh = nn.Tanh()\n",
        "        \n",
        "        \n",
        "    # weight_init\n",
        "    def weight_init(self, mean, std):\n",
        "        for m in self._modules:\n",
        "            normal_init(self._modules[m], mean, std)\n",
        "\n",
        "    # forward method\n",
        "    def forward(self, input):\n",
        "        #TO-DO\n",
        "        x = F.relu(self.bn1(self.conv1(input)))\n",
        "        x = F.relu(self.bn2(self.conv2(x)))\n",
        "        x = F.relu(self.bn3(self.conv3(x)))\n",
        "        x = F.relu(self.bn4(self.conv4(x)))\n",
        "        x = F.relu(self.bn5(self.conv5(x)))\n",
        "        x = F.relu(self.bn6(self.conv6(x)))\n",
        "        x = F.relu(self.bn7(self.conv7(x)))\n",
        "        #x = self.tanh(self.conv7(x))\n",
        "        return self.tanh(x)\n",
        "        \n",
        "        \n",
        "        \n",
        "k=10 #feel free to change k\n",
        "\n",
        "class discriminator(nn.Module):\n",
        "    # initializers\n",
        "    def __init__(self):\n",
        "        super(discriminator, self).__init__()\n",
        "        #TO-DO\n",
        "        self.conv1 = nn.Conv2d(1,5,kernel_size = 7)\n",
        "        self.conv2 = nn.Conv2d(5,10,kernel_size = 7)\n",
        "        self.conv3 = nn.Conv2d(10,20,kernel_size = 7)\n",
        "        self.conv4 = nn.Conv2d(20,30,kernel_size = 7)\n",
        "        self.conv5 = nn.Conv2d(30,40,kernel_size = 4)\n",
        "               \n",
        "        self.linear1 = nn.Linear(480,200)\n",
        "        self.linear2 = nn.Linear(200,100)\n",
        "        self.linear3 = nn.Linear(100,10)\n",
        "        self.linear4 = nn.Linear(10,1)\n",
        "        \n",
        "        \n",
        "        self.sigmoid = nn.Sigmoid()\n",
        "        self.bn1 = nn.BatchNorm2d(5)\n",
        "        self.bn2 = nn.BatchNorm2d(10)\n",
        "        self.bn3 = nn.BatchNorm2d(20)\n",
        "        self.bn4 = nn.BatchNorm2d(30)\n",
        "        self.bn5 = nn.BatchNorm2d(40)\n",
        "\n",
        "    # weight_init\n",
        "    def weight_init(self, mean, std):\n",
        "        for m in self._modules:\n",
        "            normal_init(self._modules[m], mean, std)\n",
        "\n",
        "    # forward method\n",
        "    def forward(self, input):\n",
        "        #TO-DO\n",
        "        x = F.relu(self.bn1(self.conv1(input)))\n",
        "        x = F.relu(self.bn2(self.conv2(x)))\n",
        "        x = F.relu(self.bn3(self.conv3(x)))\n",
        "        x = F.relu(self.bn4(self.conv4(x)))\n",
        "        x = x.view(-1, 480)\n",
        "        x = F.relu(self.linear1(x))\n",
        "        x = F.relu(self.linear2(x))\n",
        "        x = F.relu(self.linear3(x))\n",
        "        x = F.relu(self.linear4(x))\n",
        "        \n",
        "                     \n",
        "        x = self.sigmoid(x)\n",
        "        \n",
        "        return x.squeeze()\n",
        "        \n",
        "        \n",
        "\n",
        "        "
      ],
      "execution_count": 0,
      "outputs": []
    },
    {
      "metadata": {
        "id": "F0MfKSsAgpIF",
        "colab_type": "code",
        "colab": {}
      },
      "cell_type": "code",
      "source": [
        "class VAE_encoder(nn.Module):\n",
        "    def __init__(self):\n",
        "        super(VAE_encoder, self).__init__()\n",
        "        intermediate_channels = 32\n",
        "        z_dims = k\n",
        "        self.conv1 = nn.Conv2d(1, 8, kernel_size=5, stride=1, padding=2, bias=True)    \n",
        "        self.conv2 = nn.Conv2d(8, 16, kernel_size=5, stride=2, padding=2, bias=True)\n",
        "        self.conv3 = nn.Conv2d(16, 32, kernel_size=3, stride=2, padding=1, bias=True)\n",
        "        self.conv4 = nn.Conv2d(32, 64, kernel_size=3, stride=2, padding=1, bias=True)\n",
        "        self.conv5 = nn.Conv2d(64, intermediate_channels, kernel_size=3, stride=2, padding=1, bias=True)\n",
        "\n",
        "        \n",
        "        self.conv_mu = nn.Conv2d(intermediate_channels, z_dims, kernel_size=2, stride=1, padding=0)\n",
        "        self.conv_logvar = nn.Conv2d(intermediate_channels, z_dims, kernel_size=2, stride=1, padding=0)\n",
        "        \n",
        " \n",
        "        self.bn1 = nn.BatchNorm2d(8)\n",
        "        self.bn2 = nn.BatchNorm2d(16)\n",
        "        self.bn3 = nn.BatchNorm2d(32)\n",
        "        self.bn4 = nn.BatchNorm2d(64)\n",
        "        self.bn5 = nn.BatchNorm2d(intermediate_channels)\n",
        "        \n",
        "    def forward(self, x):\n",
        "        #print('initial: ', x.shape)\n",
        "        x = F.relu(self.bn1(self.conv1(x)))\n",
        "        #print('After conv1: ', x.shape)\n",
        "        x = F.relu(self.bn2(self.conv2(x)))\n",
        "        #print('After conv2: ', x.shape)\n",
        "        x = F.relu(self.bn3(self.conv3(x)))\n",
        "        #print('After conv3: ', x.shape)\n",
        "        x = F.relu(self.bn4(self.conv4(x)))\n",
        "        #print('After conv4: ', x.shape)\n",
        "        x = F.relu(self.bn5(self.conv5(x)))\n",
        "        #print('After conv5: ', x.shape)\n",
        "        mu = self.conv_mu(x)\n",
        "        logvar = self.conv_logvar(x)\n",
        "\n",
        "        return mu, logvar\n",
        "    def rsample(self, mu, logvar):\n",
        "        m = torch.distributions.Normal(mu, torch.exp(logvar * 0.5))\n",
        "        return m.rsample()"
      ],
      "execution_count": 0,
      "outputs": []
    },
    {
      "metadata": {
        "id": "lo4z2l71Gi6r",
        "colab_type": "text"
      },
      "cell_type": "markdown",
      "source": [
        "The training code is below. Feel free to modify  it."
      ]
    },
    {
      "metadata": {
        "scrolled": true,
        "id": "sPHEXEhjGi6u",
        "colab_type": "code",
        "outputId": "639b9c27-ec7e-45c2-a4f8-c8a6c1575097",
        "colab": {
          "base_uri": "https://localhost:8080/",
          "height": 662
        }
      },
      "cell_type": "code",
      "source": [
        "#Training code:\n",
        "\n",
        "gpu_boole = torch.cuda.is_available()\n",
        "cnn_boole = True #set True for CNN reshaping. False otherwise.\n",
        "epochs = 10\n",
        "batch_size = 32 \n",
        "lr = 0.2\n",
        "\n",
        "G = generator(k)\n",
        "D = discriminator()\n",
        "E = VAE_encoder()\n",
        "\n",
        "if gpu_boole:\n",
        "    G = G.cuda()\n",
        "    D = D.cuda()\n",
        "    E = E.cuda()\n",
        "    \n",
        "#data loader:\n",
        "transform = transforms.Compose([\n",
        "        transforms.ToTensor(),\n",
        "        transforms.Normalize(mean=(0.5, 0.5, 0.5), std=(0.5, 0.5, 0.5))\n",
        "])\n",
        "train_loader = torch.utils.data.DataLoader(\n",
        "    datasets.MNIST('./data', train=True, download=True, transform=transform),\n",
        "    batch_size=batch_size, shuffle=True)\n",
        "\n",
        "#D,G optimizers:\n",
        "G_optimizer = optim.SGD(G.parameters(), lr=lr)\n",
        "D_optimizer = optim.SGD(D.parameters(), lr=lr)\n",
        "E_optimizer = optim.SGD(E.parameters(), lr=lr)\n",
        "\n",
        "#loss definition(s):\n",
        "BCE_loss = nn.BCELoss()\n",
        "\n",
        "def loss_function(real_l,fake_l, mu, logvar):\n",
        "    \n",
        "    \n",
        "    diff = real_l - fake_l\n",
        "    L2 = torch.sum(torch.mul(diff, diff))/batch_size\n",
        "    \n",
        "    #L2 = log_p_x_given_z(reconstruction, sigma_x, data)\n",
        "    \n",
        "    \n",
        "    # see Appendix B from VAE paper:\n",
        "    # Kingma and Welling. Auto-Encoding Variational Bayes. ICLR, 2014\n",
        "    # https://arxiv.org/abs/1312.6114\n",
        "    # 0.5 * sum(1 + log(sigma^2) - mu^2 - sigma^2)\n",
        "    \n",
        "    KLD = -0.5 * torch.sum(1 + logvar - mu.pow(2) - logvar.exp())  #TODO-----------------------\n",
        "\n",
        "    return L2 + KLD\n",
        "#training loop:\n",
        "D_losses = []\n",
        "G_losses = []\n",
        "print(\"Training start!\")\n",
        "for epoch in range(epochs):\n",
        "    print('Epoch: ',epoch)\n",
        "    for x_, _ in train_loader:\n",
        "        \n",
        "        #reshaping depending on your architecture class:\n",
        "        if not cnn_boole:\n",
        "            x_ = x_.view(batch_size,-1) #this reshape is needed for MLP class\n",
        "        if gpu_boole:\n",
        "            x_ = x_.cuda()\n",
        "        \n",
        "        # train discriminator D\n",
        "        D.zero_grad()\n",
        "\n",
        "        mini_batch = x_.size()[0]\n",
        "\n",
        "        y_real_ = torch.ones(mini_batch)\n",
        "        y_fake_ = torch.zeros(mini_batch)\n",
        "        if gpu_boole:\n",
        "            y_real_ = y_real_.cuda()\n",
        "            y_fake_ = y_fake_.cuda()\n",
        "\n",
        "        x_, y_real_, y_fake_ = Variable(x_), Variable(y_real_), Variable(y_fake_)\n",
        "        D_result = D(x_)\n",
        "        D_result_real = D_result\n",
        "        D_real_loss = BCE_loss(D_result, y_real_)\n",
        "\n",
        "        #z_ = torch.randn((mini_batch, k))\n",
        "        mu, logvar = encoder(x_)\n",
        "        latent = encoder.rsample(mu, logvar)\n",
        "        z_ = latent \n",
        "        \n",
        "        #print('z: ',z_.shape)\n",
        "        if cnn_boole:\n",
        "            z_ = z_.view(-1, k, 1, 1) #needed for CNN        \n",
        "        z_ = Variable(z_)\n",
        "        if gpu_boole:\n",
        "            z_ = z_.cuda()\n",
        "\n",
        "        G_result = G(z_)\n",
        "        D_result = D(G_result)\n",
        "        D_fake_loss = BCE_loss(D_result, y_fake_)\n",
        "        D_fake_score = D_result.data.mean()\n",
        "\n",
        "        D_train_loss = D_real_loss + D_fake_loss\n",
        "\n",
        "        D_train_loss.backward(retain_graph = True)\n",
        "        D_optimizer.step()\n",
        "        \n",
        "        D_losses.append(D_train_loss.data.item())\n",
        "        \n",
        "        # train generator G\n",
        "        G.zero_grad()\n",
        "\n",
        "        #z_ = torch.randn((mini_batch, k))\n",
        "        mu, logvar = encoder(x_)\n",
        "        latent = encoder.rsample(mu, logvar)\n",
        "        z_ = latent \n",
        "        \n",
        "        if cnn_boole:\n",
        "            z_ = z_.view(-1, k, 1, 1) #needed for CNN\n",
        "        z_ = Variable(z_)\n",
        "        if gpu_boole:\n",
        "            z_ = z_.cuda()\n",
        "\n",
        "        G_result = G(z_)\n",
        "        D_result = D(G_result).squeeze()\n",
        "        D_result_fake = D_result\n",
        "        G_train_loss = BCE_loss(D_result, y_real_) + loss_function(D_result_real, D_result_fake, mu, logvar)\n",
        "\n",
        "        G_train_loss.backward(retain_graph = True)\n",
        "        G_optimizer.step()\n",
        "\n",
        "        G_losses.append(G_train_loss.data.item())\n",
        "    \n",
        "        # train encoder \n",
        "        E.zero_grad()\n",
        "        \n",
        "        E_train_loss = loss_function(D_result_real, D_result_fake, mu, logvar)\n",
        "        E_train_loss.backward(retain_graph = True)\n",
        "        E_optimizer.step()\n",
        "    print('[%d/%d] - loss_d: %.3f, loss_g: %.3f' % ((epoch + 1), epochs, torch.mean(torch.FloatTensor(D_losses)),\n",
        "                                                                  torch.mean(torch.FloatTensor(G_losses))))\n",
        "    \n",
        "\n",
        "#Plotting:\n",
        "\n",
        "#Losses:\n",
        "plt.subplot(1, 2, 1)\n",
        "plt.plot(D_losses)\n",
        "plt.title(\"D Loss\")\n",
        "plt.xlabel(\"Batch number\")\n",
        "plt.ylabel(\"Loss\")\n",
        "plt.subplot(1, 2, 2)\n",
        "plt.plot(G_losses)\n",
        "plt.title(\"G Loss\")\n",
        "plt.xlabel(\"Batch number\")\n",
        "plt.ylabel(\"Loss\");"
      ],
      "execution_count": 42,
      "outputs": [
        {
          "output_type": "stream",
          "text": [
            "Training start!\n",
            "Epoch:  0\n",
            "[1/10] - loss_d: 1.386, loss_g: 12.916\n",
            "Epoch:  1\n",
            "[2/10] - loss_d: 1.386, loss_g: 12.920\n",
            "Epoch:  2\n",
            "[3/10] - loss_d: 1.386, loss_g: 12.921\n",
            "Epoch:  3\n",
            "[4/10] - loss_d: 1.386, loss_g: 12.921\n",
            "Epoch:  4\n",
            "[5/10] - loss_d: 1.386, loss_g: 12.920\n",
            "Epoch:  5\n",
            "[6/10] - loss_d: 1.386, loss_g: 12.919\n",
            "Epoch:  6\n",
            "[7/10] - loss_d: 1.386, loss_g: 12.920\n",
            "Epoch:  7\n",
            "[8/10] - loss_d: 1.386, loss_g: 12.920\n",
            "Epoch:  8\n",
            "[9/10] - loss_d: 1.386, loss_g: 12.920\n",
            "Epoch:  9\n",
            "[10/10] - loss_d: 1.386, loss_g: 12.920\n"
          ],
          "name": "stdout"
        },
        {
          "output_type": "display_data",
          "data": {
            "image/png": "[encoded data removed]",
            "text/plain": [
              "<matplotlib.figure.Figure at 0x7fbff5001be0>"
            ]
          },
          "metadata": {
            "tags": []
          }
        }
      ]
    },
    {
      "metadata": {
        "id": "6JTd3uarGi60",
        "colab_type": "text"
      },
      "cell_type": "markdown",
      "source": [
        "##### Computing inception score:"
      ]
    },
    {
      "metadata": {
        "id": "O6RyCmfSGi63",
        "colab_type": "code",
        "outputId": "ce66dfe3-8869-4bd5-8db7-6fa7e44c14a2",
        "colab": {
          "base_uri": "https://localhost:8080/",
          "height": 35
        }
      },
      "cell_type": "code",
      "source": [
        "# Samples from G:\n",
        "z_ = torch.randn((1500, k))\n",
        "z_ = Variable(z_)\n",
        "if gpu_boole:\n",
        "    z_ = z_.cuda()\n",
        "if cnn_boole:\n",
        "    z_ = z_.view(-1, k, 1, 1) #needed for CNN        \n",
        "    \n",
        "G_result = G(z_)\n",
        "G_result = G_result.cpu().data.numpy()\n",
        "G_result = G_result.reshape([1500,1,28,28])\n",
        "\n",
        "mis = MNIST_IS(G_result)\n",
        "print('Inception Score:','mean:',mis[0],'std:',mis[1])"
      ],
      "execution_count": 43,
      "outputs": [
        {
          "output_type": "stream",
          "text": [
            "Inception Score: mean: 1.1322978184738781 std: 0.012858801156764823\n"
          ],
          "name": "stdout"
        }
      ]
    },
    {
      "metadata": {
        "id": "pAbOS5hOGi7B",
        "colab_type": "text"
      },
      "cell_type": "markdown",
      "source": [
        "##### Visualizing GAN samples"
      ]
    },
    {
      "metadata": {
        "id": "x1y46fkPGi7G",
        "colab_type": "code",
        "outputId": "4958a7ba-b508-4e7e-bc3a-7b7824ec953d",
        "colab": {
          "base_uri": "https://localhost:8080/",
          "height": 551
        }
      },
      "cell_type": "code",
      "source": [
        "# Samples from G:\n",
        "z_ = torch.randn((1500, k))\n",
        "z_ = Variable(z_)\n",
        "if gpu_boole:\n",
        "    z_ = z_.cuda()\n",
        "if cnn_boole:\n",
        "    z_ = z_.view(-1, k, 1, 1) #needed for CNN        \n",
        "\n",
        "G_result = G(z_)\n",
        "G_result = G_result.cpu().data.numpy()\n",
        "G_result = G_result.reshape([1500,28,28])\n",
        "\n",
        "plt.imshow(G_result[0],cmap='gray')\n",
        "\n",
        "size_figure_grid = 5\n",
        "fig, ax = plt.subplots(size_figure_grid, size_figure_grid, figsize=(5, 5))\n",
        "for i, j in itertools.product(range(size_figure_grid), range(size_figure_grid)):\n",
        "    ax[i, j].get_xaxis().set_visible(False)\n",
        "    ax[i, j].get_yaxis().set_visible(False)\n",
        "\n",
        "for kr in range(5*5):\n",
        "    i = kr // 5\n",
        "    j = kr % 5\n",
        "    ax[i, j].cla()\n",
        "    ax[i, j].imshow(G_result[kr], cmap='gray')\n"
      ],
      "execution_count": 46,
      "outputs": [
        {
          "output_type": "display_data",
          "data": {
            "image/png": "[encoded data removed]",
            "text/plain": [
              "<matplotlib.figure.Figure at 0x7fbff4b14f60>"
            ]
          },
          "metadata": {
            "tags": []
          }
        },
        {
          "output_type": "display_data",
          "data": {
            "image/png": "[encoded data removed]",
            "text/plain": [
              "<matplotlib.figure.Figure at 0x7fbff4b14da0>"
            ]
          },
          "metadata": {
            "tags": []
          }
        }
      ]
    },
    {
      "metadata": {
        "id": "EcpS8lJAg8eR",
        "colab_type": "code",
        "colab": {}
      },
      "cell_type": "code",
      "source": [
        "torch.save({'epoch':epochs,'gen_state_dict': G.state_dict(),'disc_state_dict': D.state_dict()},'trained.cpkt')"
      ],
      "execution_count": 0,
      "outputs": []
    },
    {
      "metadata": {
        "id": "58qm97B6AUQ4",
        "colab_type": "code",
        "colab": {
          "base_uri": "https://localhost:8080/",
          "height": 360
        },
        "outputId": "404e25d0-1960-42c4-aac8-efb8b021244c"
      },
      "cell_type": "code",
      "source": [
        "# To load the model from file :\n",
        "\n",
        "\n",
        "G = generator(k)\n",
        "D = discriminator()\n",
        "\n",
        "\n",
        "G = G.cuda()\n",
        "D = D.cuda()\n",
        "\n",
        "checkpoint = torch.load('trained.cpkt')\n",
        "G.load_state_dict(checkpoint['gen_state_dict'])\n",
        "D.load_state_dict(checkpoint['disc_state_dict'])\n"
      ],
      "execution_count": 29,
      "outputs": [
        {
          "output_type": "error",
          "ename": "FileNotFoundError",
          "evalue": "ignored",
          "traceback": [
            "\u001b[0;31m---------------------------------------------------------------------------\u001b[0m",
            "\u001b[0;31mFileNotFoundError\u001b[0m                         Traceback (most recent call last)",
            "\u001b[0;32m<ipython-input-29-cb5775dadba6>\u001b[0m in \u001b[0;36m<module>\u001b[0;34m()\u001b[0m\n\u001b[1;32m      8\u001b[0m \u001b[0mD\u001b[0m \u001b[0;34m=\u001b[0m \u001b[0mD\u001b[0m\u001b[0;34m.\u001b[0m\u001b[0mcuda\u001b[0m\u001b[0;34m(\u001b[0m\u001b[0;34m)\u001b[0m\u001b[0;34m\u001b[0m\u001b[0;34m\u001b[0m\u001b[0m\n\u001b[1;32m      9\u001b[0m \u001b[0;34m\u001b[0m\u001b[0m\n\u001b[0;32m---> 10\u001b[0;31m \u001b[0mcheckpoint\u001b[0m \u001b[0;34m=\u001b[0m \u001b[0mtorch\u001b[0m\u001b[0;34m.\u001b[0m\u001b[0mload\u001b[0m\u001b[0;34m(\u001b[0m\u001b[0;34m'trained.cpkt'\u001b[0m\u001b[0;34m)\u001b[0m\u001b[0;34m\u001b[0m\u001b[0;34m\u001b[0m\u001b[0m\n\u001b[0m\u001b[1;32m     11\u001b[0m \u001b[0mG\u001b[0m\u001b[0;34m.\u001b[0m\u001b[0mload_state_dict\u001b[0m\u001b[0;34m(\u001b[0m\u001b[0mcheckpoint\u001b[0m\u001b[0;34m[\u001b[0m\u001b[0;34m'gen_state_dict'\u001b[0m\u001b[0;34m]\u001b[0m\u001b[0;34m)\u001b[0m\u001b[0;34m\u001b[0m\u001b[0;34m\u001b[0m\u001b[0m\n\u001b[1;32m     12\u001b[0m \u001b[0mD\u001b[0m\u001b[0;34m.\u001b[0m\u001b[0mload_state_dict\u001b[0m\u001b[0;34m(\u001b[0m\u001b[0mcheckpoint\u001b[0m\u001b[0;34m[\u001b[0m\u001b[0;34m'disc_state_dict'\u001b[0m\u001b[0;34m]\u001b[0m\u001b[0;34m)\u001b[0m\u001b[0;34m\u001b[0m\u001b[0;34m\u001b[0m\u001b[0m\n",
            "\u001b[0;32m/usr/local/lib/python3.6/dist-packages/torch/serialization.py\u001b[0m in \u001b[0;36mload\u001b[0;34m(f, map_location, pickle_module)\u001b[0m\n\u001b[1;32m    354\u001b[0m             \u001b[0;34m(\u001b[0m\u001b[0msys\u001b[0m\u001b[0;34m.\u001b[0m\u001b[0mversion_info\u001b[0m\u001b[0;34m[\u001b[0m\u001b[0;36m0\u001b[0m\u001b[0;34m]\u001b[0m \u001b[0;34m==\u001b[0m \u001b[0;36m3\u001b[0m \u001b[0;32mand\u001b[0m \u001b[0misinstance\u001b[0m\u001b[0;34m(\u001b[0m\u001b[0mf\u001b[0m\u001b[0;34m,\u001b[0m \u001b[0mpathlib\u001b[0m\u001b[0;34m.\u001b[0m\u001b[0mPath\u001b[0m\u001b[0;34m)\u001b[0m\u001b[0;34m)\u001b[0m\u001b[0;34m:\u001b[0m\u001b[0;34m\u001b[0m\u001b[0;34m\u001b[0m\u001b[0m\n\u001b[1;32m    355\u001b[0m         \u001b[0mnew_fd\u001b[0m \u001b[0;34m=\u001b[0m \u001b[0;32mTrue\u001b[0m\u001b[0;34m\u001b[0m\u001b[0;34m\u001b[0m\u001b[0m\n\u001b[0;32m--> 356\u001b[0;31m         \u001b[0mf\u001b[0m \u001b[0;34m=\u001b[0m \u001b[0mopen\u001b[0m\u001b[0;34m(\u001b[0m\u001b[0mf\u001b[0m\u001b[0;34m,\u001b[0m \u001b[0;34m'rb'\u001b[0m\u001b[0;34m)\u001b[0m\u001b[0;34m\u001b[0m\u001b[0;34m\u001b[0m\u001b[0m\n\u001b[0m\u001b[1;32m    357\u001b[0m     \u001b[0;32mtry\u001b[0m\u001b[0;34m:\u001b[0m\u001b[0;34m\u001b[0m\u001b[0;34m\u001b[0m\u001b[0m\n\u001b[1;32m    358\u001b[0m         \u001b[0;32mreturn\u001b[0m \u001b[0m_load\u001b[0m\u001b[0;34m(\u001b[0m\u001b[0mf\u001b[0m\u001b[0;34m,\u001b[0m \u001b[0mmap_location\u001b[0m\u001b[0;34m,\u001b[0m \u001b[0mpickle_module\u001b[0m\u001b[0;34m)\u001b[0m\u001b[0;34m\u001b[0m\u001b[0;34m\u001b[0m\u001b[0m\n",
            "\u001b[0;31mFileNotFoundError\u001b[0m: [Errno 2] No such file or directory: 'trained.cpkt'"
          ]
        }
      ]
    }
  ]
}